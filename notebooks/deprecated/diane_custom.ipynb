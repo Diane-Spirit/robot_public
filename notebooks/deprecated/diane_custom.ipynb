{
 "cells": [
  {
   "cell_type": "code",
   "execution_count": null,
   "metadata": {},
   "outputs": [
    {
     "name": "stdout",
     "output_type": "stream",
     "text": [
      "230400 are the  100.0 % of the points\n",
      "7.136064052581787 ms\n",
      "frame size 14.7456 Mbits\n",
      "maximum frame size 3.3333333333333335\n",
      "221.184 Mbits/s required for, 15 FPS\n",
      "BW available: 50 Mbits/s\n",
      "with this BW we can send 52083.333333333336 points per frame\n",
      "needed compression factor 0.22605613425925927\n"
     ]
    }
   ],
   "source": [
    "import torch as th\n",
    "\n",
    "BW = 50 # Mbits/s\n",
    "FPS = 15\n",
    "PSZ = 4 * 16 # 4 channels of 16 bits each\n",
    "\n",
    "MFS = BW/FPS # Maximum Frame Size in Mbits\n",
    "\n",
    "\n",
    "# a tensor 480x480x4  pxl, pxl,(x,y,z,validity)\n",
    "a = th.rand(480, 480, 4)*20\n",
    "\n",
    "a[:,:,3] = (th.rand(480, 480) > 0).float()\n",
    "\n",
    "a = a.view(-1, 4).contiguous()\n",
    "\n",
    "n_points = a.size(0)\n",
    "\n",
    "\n",
    "bins = th.tensor([0, 3, 6, 9, 10])\n",
    "\n",
    "n_areas = bins.size(0)\n",
    "\n",
    "tic = th.cuda.Event(enable_timing=True)\n",
    "toc = th.cuda.Event(enable_timing=True)\n",
    "\n",
    "\n",
    "\n",
    "areas = th.bucketize(a[:, 2].contiguous(), bins)\n",
    "\n",
    "# print(areas.shape)\n",
    "# print(n_areas)\n",
    "\n",
    "area_mask = th.zeros((n_points, n_areas), dtype=th.bool, device=a.device)\n",
    "area_mask[th.arange(n_points), areas-1] = 1\n",
    "\n",
    "# print(area_mask)\n",
    "\n",
    "\n",
    "# print(area_mask)\n",
    "# apply validity mask to columns of area_mask\n",
    "validity_mask = a[:, 3].bool()\n",
    "area_mask = area_mask & validity_mask.unsqueeze(1)\n",
    "\n",
    "\n",
    "#print(area_mask)\n",
    "# cumsum per column\n",
    "\n",
    "area_counts = area_mask.cumsum(dim=0)[-1, :]\n",
    "#print(area_counts)\n",
    "\n",
    "valid_points = area_counts.sum().item()\n",
    "print(valid_points, \"are the \", valid_points/n_points*100, \"% of the points\")\n",
    "\n",
    "\n",
    "\n",
    "\n",
    "frame_size = valid_points * PSZ\n",
    "\n",
    "print(\"frame size\", frame_size/1000000, \"Mbits\")\n",
    "\n",
    "print(\"maximum frame size\", MFS)\n",
    "print(frame_size*FPS/1000000, \"Mbits/s required for,\", FPS, \"FPS\")\n",
    "print(\"BW available:\", BW, \"Mbits/s\")\n",
    "print(\"with this BW we can send\", MFS*1000000/PSZ, \"points per frame\")\n",
    "\n",
    "print(\"needed compression factor\", (MFS*1000000/PSZ)/valid_points)\n",
    "\n",
    "\n"
   ]
  },
  {
   "cell_type": "code",
   "execution_count": null,
   "metadata": {},
   "outputs": [],
   "source": [
    "\n"
   ]
  },
  {
   "cell_type": "code",
   "execution_count": null,
   "metadata": {},
   "outputs": [],
   "source": [
    "\n"
   ]
  },
  {
   "cell_type": "code",
   "execution_count": 2,
   "metadata": {},
   "outputs": [],
   "source": [
    "# # or all columns\n",
    "\n",
    "# retain_mask = area_mask.any(dim=1).squeeze()\n",
    "\n",
    "# print(retain_mask)  \n",
    "\n",
    "# E = X[retain_mask]\n",
    "\n",
    "# print(E)"
   ]
  }
 ],
 "metadata": {
  "kernelspec": {
   "display_name": "Python 3 (ipykernel)",
   "language": "python",
   "name": "python3"
  },
  "language_info": {
   "codemirror_mode": {
    "name": "ipython",
    "version": 3
   },
   "file_extension": ".py",
   "mimetype": "text/x-python",
   "name": "python",
   "nbconvert_exporter": "python",
   "pygments_lexer": "ipython3",
   "version": "3.11.8"
  }
 },
 "nbformat": 4,
 "nbformat_minor": 2
}
