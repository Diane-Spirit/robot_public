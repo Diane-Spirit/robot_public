{
 "cells": [
  {
   "cell_type": "code",
   "execution_count": null,
   "metadata": {},
   "outputs": [
    {
     "name": "stdout",
     "output_type": "stream",
     "text": [
      "tensor([[1.0000e+00, 1.0000e+00, 4.0656e+00],\n",
      "        [2.0000e+00, 0.0000e+00, 7.8408e+00],\n",
      "        [3.0000e+00, 1.0000e+00, 2.4220e+00],\n",
      "        [4.0000e+00, 1.0000e+00, 9.8088e+00],\n",
      "        [5.0000e+00, 0.0000e+00, 4.9249e-01],\n",
      "        [6.0000e+00, 0.0000e+00, 1.0096e+00],\n",
      "        [7.0000e+00, 1.0000e+00, 3.8957e+00],\n",
      "        [8.0000e+00, 1.0000e+00, 6.6876e-03],\n",
      "        [9.0000e+00, 0.0000e+00, 2.4193e+00],\n",
      "        [1.0000e+01, 1.0000e+00, 5.8027e+00]])\n",
      "tensor([2, 3, 1, 4, 1, 1, 2, 1, 1, 2])\n"
     ]
    }
   ],
   "source": [
    "import torch as th\n",
    "\n",
    "a = th.tensor([1, 2, 3,4,5,6,7,8,9,10])\n",
    "\n",
    "b = (th.rand(1, 10) > 0.5).squeeze()\n",
    "\n",
    "c = (th.rand(1, 10)*10).squeeze()\n",
    "\n",
    "n_points = a.size(0)\n",
    "\n",
    "\n",
    "# create a tensor with a b c as columns\n",
    "\n",
    "X = th.stack([a, b, c], dim=1)\n",
    "\n",
    "# make X contiguous\n",
    "X = X.contiguous()\n",
    "\n",
    "print(X)\n",
    "\n",
    "bins = th.tensor([0, 3, 6, 9, 10])\n",
    "\n",
    "n_areas = bins.size(0)\n",
    "\n",
    "areas = th.bucketize(X[:, 2], bins)\n",
    "\n",
    "print(areas)\n",
    "\n",
    "area_mask = th.zeros((n_points, n_areas), dtype=th.bool, device=X.device)\n",
    "area_mask[th.arange(n_points), areas] = 1\n",
    "\n",
    "\n"
   ]
  },
  {
   "cell_type": "code",
   "execution_count": null,
   "metadata": {},
   "outputs": [
    {
     "name": "stdout",
     "output_type": "stream",
     "text": [
      "tensor([[False, False,  True, False, False],\n",
      "        [False, False, False, False, False],\n",
      "        [False,  True, False, False, False],\n",
      "        [False, False, False, False,  True],\n",
      "        [False, False, False, False, False],\n",
      "        [False, False, False, False, False],\n",
      "        [False, False,  True, False, False],\n",
      "        [False,  True, False, False, False],\n",
      "        [False, False, False, False, False],\n",
      "        [False, False,  True, False, False]])\n"
     ]
    }
   ],
   "source": [
    "# print(area_mask)\n",
    "# apply validity mask to columns of area_mask\n",
    "validity_mask = X[:, 1].bool()\n",
    "area_mask = area_mask & validity_mask.unsqueeze(1)\n",
    "\n",
    "\n",
    "print(area_mask)\n",
    "\n",
    "\n",
    "\n"
   ]
  },
  {
   "cell_type": "code",
   "execution_count": 13,
   "metadata": {},
   "outputs": [
    {
     "name": "stdout",
     "output_type": "stream",
     "text": [
      "tensor([[0, 0, 1, 0, 0],\n",
      "        [0, 0, 1, 0, 0],\n",
      "        [0, 1, 1, 0, 0],\n",
      "        [0, 1, 1, 0, 1],\n",
      "        [0, 1, 1, 0, 1],\n",
      "        [0, 1, 1, 0, 1],\n",
      "        [0, 1, 2, 0, 1],\n",
      "        [0, 2, 2, 0, 1],\n",
      "        [0, 2, 2, 0, 1],\n",
      "        [0, 2, 3, 0, 1]])\n"
     ]
    }
   ],
   "source": [
    "# cumsum per column\n",
    "\n",
    "area_counts = area_mask.cumsum(dim=0)\n",
    "print(area_counts)"
   ]
  },
  {
   "cell_type": "code",
   "execution_count": 8,
   "metadata": {},
   "outputs": [
    {
     "name": "stdout",
     "output_type": "stream",
     "text": [
      "tensor([ True, False,  True,  True, False, False,  True,  True, False,  True])\n",
      "tensor([[1.0000e+00, 1.0000e+00, 4.0656e+00],\n",
      "        [3.0000e+00, 1.0000e+00, 2.4220e+00],\n",
      "        [4.0000e+00, 1.0000e+00, 9.8088e+00],\n",
      "        [7.0000e+00, 1.0000e+00, 3.8957e+00],\n",
      "        [8.0000e+00, 1.0000e+00, 6.6876e-03],\n",
      "        [1.0000e+01, 1.0000e+00, 5.8027e+00]])\n"
     ]
    }
   ],
   "source": [
    "# or all columns\n",
    "\n",
    "retain_mask = area_mask.any(dim=1).squeeze()\n",
    "\n",
    "print(retain_mask)  \n",
    "\n",
    "E = X[retain_mask]\n",
    "\n",
    "print(E)"
   ]
  }
 ],
 "metadata": {
  "kernelspec": {
   "display_name": "Python 3 (ipykernel)",
   "language": "python",
   "name": "python3"
  },
  "language_info": {
   "codemirror_mode": {
    "name": "ipython",
    "version": 3
   },
   "file_extension": ".py",
   "mimetype": "text/x-python",
   "name": "python",
   "nbconvert_exporter": "python",
   "pygments_lexer": "ipython3",
   "version": "3.11.8"
  }
 },
 "nbformat": 4,
 "nbformat_minor": 2
}
